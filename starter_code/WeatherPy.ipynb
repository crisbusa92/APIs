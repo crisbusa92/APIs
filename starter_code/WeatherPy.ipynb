{
 "cells": [
  {
   "cell_type": "markdown",
   "metadata": {},
   "source": [
    "# WeatherPy\n",
    "----\n",
    "\n",
    "#### Note\n",
    "* Instructions have been included for each segment. You do not have to follow them exactly, but they are included to help you think through the steps."
   ]
  },
  {
   "cell_type": "code",
   "execution_count": 1,
   "metadata": {
    "scrolled": true
   },
   "outputs": [],
   "source": [
    "# Dependencies and Setup\n",
    "import matplotlib.pyplot as plt\n",
    "import pandas as pd\n",
    "import numpy as np\n",
    "import requests\n",
    "import time\n",
    "from scipy.stats import linregress\n",
    "\n",
    "# Import API key\n",
    "from api_keys import weather_api_key\n",
    "\n",
    "# Incorporated citipy to determine city based on latitude and longitude\n",
    "from citipy import citipy\n",
    "\n",
    "# Output File (CSV)\n",
    "output_data_file = \"output_data/cities.csv\"\n",
    "\n",
    "# Range of latitudes and longitudes\n",
    "lat_range = (-90, 90)\n",
    "lng_range = (-180, 180)"
   ]
  },
  {
   "cell_type": "markdown",
   "metadata": {},
   "source": [
    "## Generate Cities List"
   ]
  },
  {
   "cell_type": "code",
   "execution_count": 2,
   "metadata": {},
   "outputs": [
    {
     "data": {
      "text/plain": [
       "647"
      ]
     },
     "execution_count": 2,
     "metadata": {},
     "output_type": "execute_result"
    }
   ],
   "source": [
    "# List for holding lat_lngs and cities\n",
    "lat_lngs = []\n",
    "cities = []\n",
    "\n",
    "# Create a set of random lat and lng combinations\n",
    "lats = np.random.uniform(lat_range[0], lat_range[1], size=1500)\n",
    "lngs = np.random.uniform(lng_range[0], lng_range[1], size=1500)\n",
    "lat_lngs = zip(lats, lngs)\n",
    "\n",
    "# Identify nearest city for each lat, lng combination\n",
    "for lat_lng in lat_lngs:\n",
    "    city = citipy.nearest_city(lat_lng[0], lat_lng[1]).city_name\n",
    "    \n",
    "    # If the city is unique, then add it to a our cities list\n",
    "    if city not in cities:\n",
    "        cities.append(city)\n",
    "\n",
    "# Print the city count to confirm sufficient count\n",
    "len(cities)"
   ]
  },
  {
   "cell_type": "code",
   "execution_count": null,
   "metadata": {},
   "outputs": [],
   "source": []
  },
  {
   "cell_type": "markdown",
   "metadata": {},
   "source": [
    "### Perform API Calls\n",
    "* Perform a weather check on each city using a series of successive API calls.\n",
    "* Include a print log of each city as it'sbeing processed (with the city number and city name).\n"
   ]
  },
  {
   "cell_type": "code",
   "execution_count": 3,
   "metadata": {},
   "outputs": [
    {
     "ename": "NameError",
     "evalue": "name 'url' is not defined",
     "output_type": "error",
     "traceback": [
      "\u001b[0;31m---------------------------------------------------------------------------\u001b[0m",
      "\u001b[0;31mNameError\u001b[0m                                 Traceback (most recent call last)",
      "\u001b[0;32m<ipython-input-3-27dbf795d934>\u001b[0m in \u001b[0;36m<module>\u001b[0;34m\u001b[0m\n\u001b[1;32m      1\u001b[0m \u001b[0mweather_api_key\u001b[0m\u001b[0;34m=\u001b[0m\u001b[0;34m'b0abfb0afe33f1b53ae6a58eaebd4cf5'\u001b[0m\u001b[0;34m\u001b[0m\u001b[0;34m\u001b[0m\u001b[0m\n\u001b[0;32m----> 2\u001b[0;31m \u001b[0mquery_url\u001b[0m \u001b[0;34m=\u001b[0m \u001b[0;34mf\"{url}appid={weather_api_key}&units={units}&q=\"\u001b[0m\u001b[0;34m\u001b[0m\u001b[0;34m\u001b[0m\u001b[0m\n\u001b[0m\u001b[1;32m      3\u001b[0m \u001b[0mresponse\u001b[0m \u001b[0;34m=\u001b[0m \u001b[0mrequests\u001b[0m\u001b[0;34m.\u001b[0m\u001b[0mget\u001b[0m\u001b[0;34m(\u001b[0m\u001b[0mquery_url\u001b[0m \u001b[0;34m+\u001b[0m \u001b[0mcity\u001b[0m\u001b[0;34m)\u001b[0m\u001b[0;34m.\u001b[0m\u001b[0mjson\u001b[0m\u001b[0;34m(\u001b[0m\u001b[0;34m)\u001b[0m\u001b[0;34m\u001b[0m\u001b[0;34m\u001b[0m\u001b[0m\n\u001b[1;32m      4\u001b[0m \u001b[0mresponse\u001b[0m\u001b[0;34m\u001b[0m\u001b[0;34m\u001b[0m\u001b[0m\n",
      "\u001b[0;31mNameError\u001b[0m: name 'url' is not defined"
     ]
    }
   ],
   "source": [
    "weather_api_key='b0abfb0afe33f1b53ae6a58eaebd4cf5'\n",
    "query_url = f\"{url}appid={weather_api_key}&units={units}&q=\"\n",
    "response = requests.get(query_url + city).json() \n",
    "response"
   ]
  },
  {
   "cell_type": "code",
   "execution_count": 4,
   "metadata": {},
   "outputs": [
    {
     "name": "stdout",
     "output_type": "stream",
     "text": [
      "City not found... skipping.\n",
      "Processing record 1: vaitupu\n",
      "Processing record 2: bluff\n",
      "Processing record 3: carnarvon\n",
      "Processing record 4: muros\n",
      "City not found... skipping.\n",
      "Processing record 5: yanan\n",
      "Processing record 6: esperance\n",
      "Processing record 7: hermanus\n",
      "Processing record 8: college\n",
      "Processing record 9: punta arenas\n",
      "Processing record 10: puerto ayora\n",
      "Processing record 11: pringsewu\n",
      "Processing record 12: hobart\n",
      "Processing record 13: souillac\n",
      "Processing record 14: albany\n",
      "Processing record 15: kaitangata\n",
      "Processing record 16: port blair\n",
      "Processing record 17: arraial do cabo\n",
      "Processing record 18: qarayeri\n",
      "Processing record 19: eyl\n",
      "Processing record 20: sortland\n",
      "Processing record 21: bonthe\n",
      "Processing record 22: iqaluit\n",
      "Processing record 23: sultanpur\n",
      "Processing record 24: yar-sale\n",
      "City not found... skipping.\n",
      "Processing record 25: mys shmidta\n",
      "City not found... skipping.\n",
      "Processing record 26: attawapiskat\n",
      "Processing record 27: kapaa\n",
      "Processing record 28: rocha\n",
      "Processing record 29: puerto suarez\n",
      "City not found... skipping.\n",
      "Processing record 30: amderma\n",
      "Processing record 31: lavrentiya\n",
      "Processing record 32: gorontalo\n",
      "Processing record 33: aden\n",
      "Processing record 34: ouahigouya\n",
      "Processing record 35: mataura\n",
      "Processing record 36: ancud\n",
      "Processing record 37: tahta\n",
      "Processing record 38: avarua\n",
      "Processing record 39: acarau\n",
      "Processing record 40: chokurdakh\n",
      "Processing record 41: dicabisagan\n",
      "Processing record 42: port alfred\n",
      "Processing record 43: rikitea\n",
      "Processing record 44: ushuaia\n",
      "Processing record 45: quesnel\n",
      "Processing record 46: lompoc\n",
      "Processing record 47: port elizabeth\n",
      "City not found... skipping.\n",
      "Processing record 48: taolanaro\n",
      "Processing record 49: butaritari\n",
      "Processing record 50: nelson bay\n",
      "Processing record 51: kadhan\n",
      "Processing record 52: torbay\n",
      "Processing record 53: faanui\n",
      "City not found... skipping.\n",
      "Processing record 54: cam pha\n",
      "Processing record 55: castro\n",
      "Processing record 56: nome\n",
      "Processing record 57: bahia blanca\n",
      "Processing record 58: san jeronimo\n",
      "Processing record 59: am timan\n",
      "Processing record 60: palmas bellas\n",
      "Processing record 61: waingapu\n",
      "Processing record 62: atuona\n",
      "Processing record 63: luderitz\n",
      "Processing record 64: alta floresta\n",
      "Processing record 65: ilulissat\n",
      "Processing record 66: tiksi\n",
      "Processing record 67: cockburn town\n",
      "Processing record 68: qaanaaq\n",
      "Processing record 69: bambous virieux\n",
      "Processing record 70: puri\n",
      "Processing record 71: jinxiang\n",
      "Processing record 72: bredasdorp\n",
      "Processing record 73: koubia\n",
      "Processing record 74: bilma\n",
      "Processing record 75: puerto maldonado\n",
      "Processing record 76: hilo\n",
      "Processing record 77: kungurtug\n",
      "City not found... skipping.\n",
      "Processing record 78: samusu\n",
      "Processing record 79: broken hill\n",
      "Processing record 80: scarborough\n",
      "Processing record 81: provideniya\n",
      "Processing record 82: margate\n",
      "Processing record 83: nadbai\n",
      "Processing record 84: praia\n",
      "Processing record 85: busselton\n",
      "Processing record 86: tuatapere\n",
      "Processing record 87: katsuura\n",
      "City not found... skipping.\n",
      "Processing record 88: barentsburg\n",
      "City not found... skipping.\n",
      "Processing record 89: ho\n",
      "Processing record 90: chaiyaphum\n",
      "Processing record 91: oranjemund\n",
      "Processing record 92: pangai\n",
      "Processing record 93: jamestown\n",
      "Processing record 94: husavik\n",
      "Processing record 95: thompson\n",
      "Processing record 96: saint-joseph\n",
      "Processing record 97: port-gentil\n",
      "Processing record 98: kuytun\n",
      "Processing record 99: tsumeb\n",
      "Processing record 100: pemangkat\n",
      "City not found... skipping.\n",
      "Processing record 101: illoqqortoormiut\n",
      "Processing record 102: abashiri\n",
      "Processing record 103: avera\n",
      "Processing record 104: tura\n",
      "Processing record 105: dolores\n",
      "Processing record 106: broome\n",
      "City not found... skipping.\n",
      "Processing record 107: belushya guba\n",
      "Processing record 108: jijiga\n",
      "Processing record 109: upernavik\n",
      "Processing record 110: lebu\n",
      "Processing record 111: rorvik\n",
      "Processing record 112: koping\n",
      "Processing record 113: georgetown\n",
      "Processing record 114: poso\n",
      "Processing record 115: dikson\n",
      "Processing record 116: hovd\n",
      "Processing record 117: carutapera\n",
      "Processing record 118: barrow\n",
      "Processing record 119: nipawin\n",
      "Processing record 120: longyearbyen\n",
      "City not found... skipping.\n",
      "Processing record 121: banmo\n",
      "Processing record 122: flin flon\n",
      "Processing record 123: mandan\n",
      "Processing record 124: kokuy\n",
      "Processing record 125: saskylakh\n",
      "Processing record 126: saint-philippe\n",
      "Processing record 127: chuy\n",
      "Processing record 128: galesong\n",
      "Processing record 129: caravelas\n",
      "Processing record 130: yantal\n",
      "Processing record 131: hasaki\n",
      "Processing record 132: santa catarina\n",
      "Processing record 133: taoudenni\n",
      "Processing record 134: alyangula\n",
      "Processing record 135: vila velha\n",
      "Processing record 136: new norfolk\n",
      "Processing record 137: victoria\n",
      "Processing record 138: flinders\n",
      "Processing record 139: tual\n",
      "Processing record 140: malindi\n",
      "Processing record 141: mutsu\n",
      "Processing record 142: panama city\n",
      "Processing record 143: east london\n",
      "Processing record 144: santos dumont\n",
      "Processing record 145: brae\n",
      "Processing record 146: hay river\n",
      "Processing record 147: taksimo\n",
      "Processing record 148: the valley\n",
      "Processing record 149: havoysund\n",
      "Processing record 150: tasiilaq\n",
      "Processing record 151: nador\n",
      "Processing record 152: peniche\n",
      "Processing record 153: namatanai\n",
      "Processing record 154: rio gallegos\n",
      "Processing record 155: fortuna\n",
      "Processing record 156: grindavik\n",
      "Processing record 157: alugan\n",
      "Processing record 158: kemijarvi\n",
      "Processing record 159: antofagasta\n",
      "Processing record 160: westport\n",
      "Processing record 161: hue\n",
      "Processing record 162: mmabatho\n",
      "Processing record 163: cape town\n",
      "Processing record 164: itapora\n",
      "Processing record 165: hofn\n",
      "Processing record 166: portland\n",
      "Processing record 167: yarmouth\n",
      "Processing record 168: alofi\n",
      "Processing record 169: severo-kurilsk\n",
      "Processing record 170: cidreira\n",
      "Processing record 171: poum\n",
      "Processing record 172: moses lake\n",
      "Processing record 173: dunedin\n",
      "Processing record 174: komsomolskiy\n",
      "Processing record 175: quatre cocos\n",
      "City not found... skipping.\n",
      "Processing record 176: karkaralinsk\n",
      "Processing record 177: esmeraldas\n",
      "Processing record 178: cherskiy\n",
      "Processing record 179: saldanha\n",
      "Processing record 180: rawson\n",
      "Processing record 181: tilichiki\n",
      "City not found... skipping.\n",
      "Processing record 182: laiagam\n",
      "Processing record 183: layou\n",
      "Processing record 184: mount gambier\n",
      "Processing record 185: algiers\n",
      "Processing record 186: guerrero negro\n",
      "Processing record 187: vaini\n",
      "Processing record 188: pevek\n",
      "Processing record 189: sao joao da barra\n",
      "Processing record 190: talcahuano\n",
      "Processing record 191: vilcun\n",
      "Processing record 192: takoradi\n",
      "City not found... skipping.\n",
      "Processing record 193: kamenskoye\n",
      "Processing record 194: fillmore\n",
      "Processing record 195: grenada\n",
      "Processing record 196: tuensang\n",
      "Processing record 197: kodiak\n",
      "City not found... skipping.\n",
      "Processing record 198: tsihombe\n",
      "Processing record 199: roma\n",
      "Processing record 200: diego de almagro\n",
      "Processing record 201: yeniseysk\n",
      "Processing record 202: ponta do sol\n",
      "Processing record 203: honiara\n",
      "Processing record 204: bengkulu\n",
      "Processing record 205: strezhevoy\n",
      "Processing record 206: freeport\n",
      "Processing record 207: anaconda\n",
      "Processing record 208: port-cartier\n",
      "Processing record 209: iwanai\n",
      "Processing record 210: virginia beach\n",
      "Processing record 211: marilandia\n",
      "City not found... skipping.\n",
      "Processing record 212: tumannyy\n",
      "Processing record 213: penzance\n",
      "Processing record 214: yellowknife\n",
      "Processing record 215: codrington\n",
      "Processing record 216: karabulak\n",
      "Processing record 217: skovorodino\n",
      "Processing record 218: akureyri\n",
      "Processing record 219: la rioja\n",
      "Processing record 220: vila franca do campo\n",
      "Processing record 221: norman wells\n",
      "Processing record 222: mount isa\n",
      "Processing record 223: nong khae\n",
      "Processing record 224: abu dhabi\n",
      "Processing record 225: petropavlovsk-kamchatskiy\n",
      "Processing record 226: tullow\n",
      "Processing record 227: lagoa\n",
      "City not found... skipping.\n",
      "Processing record 228: umzimvubu\n",
      "Processing record 229: aklavik\n",
      "Processing record 230: akdepe\n",
      "Processing record 231: san vicente\n",
      "Processing record 232: hargeysa\n",
      "Processing record 233: shache\n",
      "Processing record 234: mar del plata\n",
      "Processing record 235: lincoln\n",
      "Processing record 236: ixtapa\n",
      "Processing record 237: ippy\n",
      "Processing record 238: channel-port aux basques\n",
      "Processing record 239: iralaya\n",
      "Processing record 240: nikolskoye\n"
     ]
    },
    {
     "name": "stdout",
     "output_type": "stream",
     "text": [
      "Processing record 241: banda aceh\n",
      "Processing record 242: nyurba\n",
      "Processing record 243: iquitos\n",
      "Processing record 244: san patricio\n",
      "Processing record 245: gardenstown\n",
      "Processing record 246: port macquarie\n",
      "City not found... skipping.\n",
      "Processing record 247: sumbawa\n",
      "Processing record 248: majene\n",
      "Processing record 249: matara\n",
      "Processing record 250: vilhena\n",
      "Processing record 251: saint anthony\n",
      "Processing record 252: neiafu\n",
      "City not found... skipping.\n",
      "Processing record 253: sorvag\n",
      "Processing record 254: sola\n",
      "Processing record 255: kirakira\n",
      "Processing record 256: kavieng\n",
      "Processing record 257: jalu\n",
      "Processing record 258: shimoda\n",
      "Processing record 259: okato\n",
      "Processing record 260: basco\n",
      "Processing record 261: hithadhoo\n",
      "Processing record 262: komyshuvakha\n",
      "Processing record 263: tessalit\n",
      "Processing record 264: ongandjera\n",
      "Processing record 265: ballina\n",
      "Processing record 266: novyy urengoy\n",
      "Processing record 267: sorong\n",
      "Processing record 268: grand gaube\n",
      "Processing record 269: sakakah\n",
      "Processing record 270: pisco\n",
      "Processing record 271: kashi\n",
      "Processing record 272: zhigansk\n",
      "Processing record 273: christchurch\n",
      "Processing record 274: porbandar\n",
      "Processing record 275: xai-xai\n",
      "Processing record 276: boralday\n",
      "Processing record 277: clyde river\n",
      "Processing record 278: isangel\n",
      "Processing record 279: cachoeiras de macacu\n",
      "Processing record 280: tuktoyaktuk\n",
      "Processing record 281: xique-xique\n",
      "Processing record 282: ostrovnoy\n",
      "Processing record 283: mangan\n",
      "Processing record 284: saint-jean-de-maurienne\n",
      "Processing record 285: santa vitoria do palmar\n",
      "Processing record 286: padang\n",
      "Processing record 287: french harbor\n",
      "City not found... skipping.\n",
      "Processing record 288: halalo\n",
      "Processing record 289: cabo san lucas\n",
      "City not found... skipping.\n",
      "Processing record 290: grand river south east\n",
      "Processing record 291: kang\n",
      "Processing record 292: muchkapskiy\n",
      "Processing record 293: dong hoi\n",
      "Processing record 294: leshukonskoye\n",
      "Processing record 295: murmashi\n",
      "Processing record 296: curup\n",
      "Processing record 297: abu samrah\n",
      "Processing record 298: ilhabela\n",
      "Processing record 299: praia da vitoria\n",
      "Processing record 300: bathsheba\n",
      "Processing record 301: ko samui\n",
      "City not found... skipping.\n",
      "Processing record 302: khonuu\n",
      "City not found... skipping.\n",
      "Processing record 303: garm\n",
      "Processing record 304: elko\n",
      "Processing record 305: kenai\n",
      "Processing record 306: enshi\n",
      "Processing record 307: gat\n",
      "Processing record 308: kaniama\n",
      "Processing record 309: coihaique\n",
      "Processing record 310: mareeba\n",
      "Processing record 311: lobito\n",
      "Processing record 312: gizo\n",
      "Processing record 313: nouakchott\n",
      "Processing record 314: klyuchi\n",
      "Processing record 315: zigong\n",
      "Processing record 316: kaset sombun\n",
      "Processing record 317: yeppoon\n",
      "Processing record 318: donetsk\n",
      "Processing record 319: tripoli\n",
      "Processing record 320: tiarei\n",
      "Processing record 321: romuli\n",
      "Processing record 322: aksarka\n",
      "Processing record 323: zhuhai\n",
      "City not found... skipping.\n",
      "Processing record 324: nizhneyansk\n",
      "Processing record 325: inuvik\n",
      "Processing record 326: khorixas\n",
      "Processing record 327: namibe\n",
      "Processing record 328: sur\n",
      "Processing record 329: harnosand\n",
      "Processing record 330: vestmannaeyjar\n",
      "Processing record 331: betsiamites\n",
      "Processing record 332: chicama\n",
      "Processing record 333: jiblah\n",
      "Processing record 334: show low\n",
      "Processing record 335: airai\n",
      "Processing record 336: pacific grove\n",
      "Processing record 337: dromolaxia\n",
      "Processing record 338: la serena\n",
      "Processing record 339: basoko\n",
      "Processing record 340: klaeng\n",
      "Processing record 341: jati\n",
      "Processing record 342: kulim\n",
      "Processing record 343: ribeira grande\n",
      "Processing record 344: huarmey\n",
      "Processing record 345: paita\n",
      "Processing record 346: klaksvik\n",
      "Processing record 347: bethel\n",
      "Processing record 348: akyab\n",
      "Processing record 349: colares\n",
      "Processing record 350: oktyabrskiy\n",
      "Processing record 351: geraldton\n",
      "Processing record 352: hun\n",
      "Processing record 353: general pico\n",
      "Processing record 354: young\n",
      "Processing record 355: rodeo\n",
      "Processing record 356: mahon\n",
      "Processing record 357: lufilufi\n",
      "Processing record 358: treinta y tres\n",
      "Processing record 359: yelanskiy\n",
      "Processing record 360: yatou\n",
      "Processing record 361: ust-nera\n",
      "Processing record 362: port hardy\n",
      "Processing record 363: yhu\n",
      "Processing record 364: samarai\n",
      "Processing record 365: san ramon\n",
      "Processing record 366: pokhara\n",
      "Processing record 367: dolzhanskaya\n",
      "Processing record 368: paamiut\n",
      "Processing record 369: ucluelet\n",
      "Processing record 370: dharchula\n",
      "Processing record 371: palmas\n",
      "Processing record 372: vilyuysk\n",
      "Processing record 373: tromso\n",
      "Processing record 374: ponta delgada\n",
      "Processing record 375: havre-saint-pierre\n",
      "Processing record 376: khatanga\n",
      "Processing record 377: salalah\n",
      "Processing record 378: ahuimanu\n",
      "City not found... skipping.\n",
      "Processing record 379: louisbourg\n",
      "Processing record 380: tamayong\n",
      "Processing record 381: belgrade\n",
      "Processing record 382: leningradskiy\n",
      "Processing record 383: buraydah\n",
      "Processing record 384: hit\n",
      "Processing record 385: karwar\n",
      "Processing record 386: kinsale\n",
      "Processing record 387: bardiyah\n",
      "Processing record 388: yerbogachen\n",
      "Processing record 389: vostok\n",
      "Processing record 390: khuzdar\n",
      "Processing record 391: greenville\n",
      "Processing record 392: coahuayana\n",
      "Processing record 393: hualmay\n",
      "Processing record 394: kununurra\n",
      "City not found... skipping.\n",
      "Processing record 395: rungata\n",
      "Processing record 396: srivardhan\n",
      "Processing record 397: santiago del estero\n",
      "Processing record 398: asau\n",
      "Processing record 399: fenoarivo atsinanana\n",
      "Processing record 400: jiangyou\n",
      "City not found... skipping.\n",
      "Processing record 401: azimur\n",
      "Processing record 402: terra santa\n",
      "Processing record 403: lasa\n",
      "Processing record 404: wajima\n",
      "Processing record 405: bondo\n",
      "Processing record 406: khovu-aksy\n",
      "Processing record 407: shelburne\n",
      "Processing record 408: virden\n",
      "City not found... skipping.\n",
      "Processing record 409: sentyabrskiy\n",
      "Processing record 410: mannarakkat\n",
      "Processing record 411: tete\n",
      "Processing record 412: katangli\n",
      "Processing record 413: synya\n",
      "Processing record 414: tambovka\n",
      "Processing record 415: kamenka\n",
      "Processing record 416: hamilton\n",
      "Processing record 417: gunjur\n",
      "Processing record 418: tabou\n",
      "Processing record 419: lamont\n",
      "Processing record 420: manzil salim\n",
      "Processing record 421: yining\n",
      "Processing record 422: tupik\n",
      "Processing record 423: terrace bay\n",
      "Processing record 424: lynchburg\n",
      "Processing record 425: dongsheng\n",
      "Processing record 426: kulhudhuffushi\n",
      "Processing record 427: cururupu\n",
      "Processing record 428: lages\n",
      "Processing record 429: karasburg\n",
      "Processing record 430: victor harbor\n",
      "Processing record 431: umm lajj\n",
      "Processing record 432: pangnirtung\n",
      "Processing record 433: itarema\n",
      "City not found... skipping.\n",
      "Processing record 434: grand centre\n",
      "Processing record 435: kangaatsiaq\n",
      "Processing record 436: kendari\n",
      "Processing record 437: lieksa\n",
      "Processing record 438: uray\n",
      "Processing record 439: ribeira brava\n",
      "Processing record 440: abonnema\n",
      "Processing record 441: mogadishu\n",
      "Processing record 442: launceston\n",
      "City not found... skipping.\n",
      "Processing record 443: deh rawud\n",
      "Processing record 444: krutikha\n",
      "Processing record 445: barra patuca\n",
      "Processing record 446: sitka\n",
      "Processing record 447: mayor pablo lagerenza\n",
      "City not found... skipping.\n",
      "Processing record 448: xadani\n",
      "Processing record 449: zavoaia\n",
      "Processing record 450: san carlos\n",
      "Processing record 451: bakel\n",
      "Processing record 452: laguna\n",
      "Processing record 453: nanortalik\n",
      "City not found... skipping.\n",
      "Processing record 454: samalaeulu\n",
      "Processing record 455: palauig\n",
      "Processing record 456: evensk\n",
      "Processing record 457: puerto madryn\n",
      "Processing record 458: alice springs\n",
      "Processing record 459: rajmahal\n",
      "Processing record 460: gimli\n",
      "Processing record 461: vidim\n",
      "Processing record 462: cayenne\n",
      "Processing record 463: camana\n",
      "Processing record 464: nieuw amsterdam\n",
      "Processing record 465: narsaq\n",
      "City not found... skipping.\n",
      "Processing record 466: toliary\n",
      "Processing record 467: carbonia\n",
      "Processing record 468: kudahuvadhoo\n",
      "Processing record 469: general roca\n",
      "Processing record 470: chiang klang\n",
      "Processing record 471: arlit\n",
      "Processing record 472: batemans bay\n",
      "Processing record 473: hailar\n",
      "Processing record 474: juybar\n",
      "City not found... skipping.\n",
      "Processing record 475: silindia\n",
      "Processing record 476: constitucion\n",
      "Processing record 477: villaviciosa\n",
      "Processing record 478: altay\n"
     ]
    },
    {
     "name": "stdout",
     "output_type": "stream",
     "text": [
      "Processing record 479: mahebourg\n",
      "Processing record 480: farmington\n",
      "Processing record 481: severnoye\n",
      "Processing record 482: samoylovka\n",
      "Processing record 483: gejiu\n",
      "Processing record 484: maniitsoq\n",
      "Processing record 485: kikwit\n",
      "Processing record 486: shinjo\n",
      "Processing record 487: coquimbo\n",
      "Processing record 488: black forest\n",
      "Processing record 489: indramayu\n",
      "Processing record 490: sinjhoro\n",
      "Processing record 491: olafsvik\n",
      "Processing record 492: aswan\n",
      "Processing record 493: arman\n",
      "Processing record 494: horodkivka\n",
      "Processing record 495: morant bay\n",
      "Processing record 496: vanimo\n",
      "Processing record 497: meulaboh\n",
      "Processing record 498: ialibu\n",
      "Processing record 499: beyneu\n",
      "Processing record 500: rach gia\n",
      "Processing record 501: south river\n",
      "Processing record 502: huntingdon\n",
      "Processing record 503: saint-pierre\n",
      "Processing record 504: fontanka\n",
      "Processing record 505: linxia\n",
      "Processing record 506: itacare\n",
      "Processing record 507: tatahuicapan\n",
      "Processing record 508: tuban\n",
      "Processing record 509: langsa\n",
      "Processing record 510: ikom\n",
      "Processing record 511: seoul\n",
      "Processing record 512: ada\n",
      "Processing record 513: socorro\n",
      "Processing record 514: port hedland\n",
      "Processing record 515: dingle\n",
      "Processing record 516: lazaro cardenas\n",
      "Processing record 517: ndele\n",
      "Processing record 518: yaring\n",
      "Processing record 519: surovatikha\n",
      "Processing record 520: beloha\n",
      "Processing record 521: san juan\n",
      "Processing record 522: iguape\n",
      "Processing record 523: half moon bay\n",
      "Processing record 524: soanierana ivongo\n",
      "Processing record 525: shamary\n",
      "City not found... skipping.\n",
      "Processing record 526: saleaula\n",
      "Processing record 527: koutsouras\n",
      "Processing record 528: buala\n",
      "City not found... skipping.\n",
      "Processing record 529: chagda\n",
      "Processing record 530: odweyne\n",
      "Processing record 531: alvorada\n",
      "Processing record 532: carbondale\n",
      "Processing record 533: forest hills\n",
      "Processing record 534: peringat\n",
      "Processing record 535: camapua\n",
      "Processing record 536: videira\n",
      "Processing record 537: sao filipe\n",
      "City not found... skipping.\n",
      "Processing record 538: mentok\n",
      "Processing record 539: caninde\n",
      "Processing record 540: potchefstroom\n",
      "Processing record 541: quime\n",
      "Processing record 542: ngunguru\n",
      "Processing record 543: corsicana\n",
      "Processing record 544: goderich\n",
      "Processing record 545: lisakovsk\n",
      "Processing record 546: zemio\n",
      "Processing record 547: batsfjord\n",
      "Processing record 548: macapa\n",
      "City not found... skipping.\n",
      "Processing record 549: rolim de moura\n",
      "Processing record 550: cumpas\n",
      "Processing record 551: trairi\n",
      "Processing record 552: bella union\n",
      "Processing record 553: mapiri\n",
      "Processing record 554: santa cruz\n",
      "Processing record 555: nishihara\n",
      "Processing record 556: astoria\n",
      "Processing record 557: kaeo\n",
      "City not found... skipping.\n",
      "Processing record 558: tungkang\n",
      "Processing record 559: byron bay\n",
      "Processing record 560: roald\n",
      "Processing record 561: tondano\n",
      "City not found... skipping.\n",
      "Processing record 562: ye\n",
      "Processing record 563: stutterheim\n",
      "Processing record 564: omboue\n",
      "Processing record 565: kloulklubed\n",
      "Processing record 566: cacapava\n",
      "Processing record 567: kano\n",
      "Processing record 568: port lincoln\n",
      "Processing record 569: yaan\n",
      "Processing record 570: touros\n",
      "Processing record 571: azuaga\n",
      "Processing record 572: sebring\n",
      "Processing record 573: sibolga\n",
      "Processing record 574: haines junction\n",
      "Processing record 575: larkana\n",
      "Processing record 576: rockland\n",
      "Processing record 577: berlevag\n",
      "Processing record 578: prabumulih\n",
      "Processing record 579: chegdomyn\n",
      "Processing record 580: maloy\n",
      "Processing record 581: shingu\n",
      "Processing record 582: olga\n",
      "Processing record 583: lao cai\n",
      "Processing record 584: storforshei\n",
      "Processing record 585: hobyo\n",
      "Processing record 586: cuiluan\n",
      "Processing record 587: energetik\n",
      "Processing record 588: rudnya\n",
      "Processing record 589: grandview\n",
      "Processing record 590: colesberg\n",
      "Processing record 591: kuala terengganu\n",
      "Processing record 592: dudinka\n",
      "Processing record 593: belaya gora\n",
      "Processing record 594: matagami\n",
      "Processing record 595: catuday\n",
      "Processing record 596: vardo\n",
      "Processing record 597: lorengau\n",
      "Processing record 598: dan khun thot\n",
      "Processing record 599: japura\n",
      "Processing record 600: emerald\n",
      "Processing record 601: yulara\n",
      "Processing record 602: vestmanna\n",
      "Processing record 603: burnie\n",
      "Processing record 604: diamantino\n",
      "City not found... skipping.\n",
      "Processing record 605: vestbygda\n",
      "Processing record 606: dombas\n",
      "City not found... skipping.\n",
      "Processing record 607: tabarqah\n",
      "Processing record 608: khash\n",
      "Processing record 609: krasnyy chikoy\n",
      "Processing record 610: sorland\n",
      "Processing record 611: chancay\n",
      "Processing record 612: tautira\n",
      "Processing record 613: mendoza\n",
      "Processing record 614: bulungu\n",
      "Processing record 615: kahului\n",
      "Processing record 616: ayan\n",
      "City not found... skipping.\n",
      "Processing record 617: geresk\n",
      "City not found... skipping.\n",
      "Processing record 618: satitoa\n",
      "Processing record 619: awjilah\n",
      "City not found... skipping.\n",
      "Processing record 620: tongsa\n",
      "Processing record 621: dzhebariki-khaya\n",
      "Processing record 622: pauini\n",
      "Processing record 623: talnakh\n",
      "Processing record 624: parati\n",
      "Processing record 625: mamallapuram\n",
      "City not found... skipping.\n",
      "Processing record 626: sedelnikovo\n",
      "Processing record 627: northam\n",
      "Processing record 628: george\n",
      "Processing record 629: te anau\n",
      "Processing record 630: vega de alatorre\n",
      "Processing record 631: pecos\n",
      "Processing record 632: rock sound\n",
      "Processing record 633: fatehabad\n",
      "Processing record 634: orleans\n",
      "Processing record 635: schlitz\n",
      "Processing record 636: bereda\n",
      "Processing record 637: kathu\n",
      "Processing record 638: gamba\n",
      "Processing record 639: walvis bay\n",
      "Processing record 640: damietta\n",
      "Processing record 641: acari\n",
      "Processing record 642: dakar\n",
      "City not found... skipping.\n",
      "Processing record 643: muzquiz\n",
      "Processing record 644: yumen\n",
      "Processing record 645: fairbanks\n",
      "Processing record 646: kristiansund\n",
      "Processing record 647: pingliang\n"
     ]
    }
   ],
   "source": [
    "#Base Url\n",
    "url = \"http://api.openweathermap.org/data/2.5/weather?\"\n",
    "units = \"imperial\"\n",
    "\n",
    "# Build partial query URL\n",
    "query_url = f\"{url}appid={weather_api_key}&units={units}&q=\"\n",
    "#print(query_url)\n",
    "\n",
    "# set up lists to hold reponse info\n",
    "citylist = []\n",
    "lat = []\n",
    "lng = []\n",
    "temp = []\n",
    "max_temp = []\n",
    "humidity = []\n",
    "cloud = []\n",
    "wind = []\n",
    "country = []\n",
    "date = []\n",
    "\n",
    "#Counter for record processing\n",
    "counter = 1\n",
    "\n",
    "# Loop through the list of cities and perform a request for data on each\n",
    "for city in cities:\n",
    "    \n",
    "    try:\n",
    "        response = requests.get(query_url + city).json()      \n",
    "        lat_city = response[\"coord\"][\"lat\"]\n",
    "        lat.append(lat_city)\n",
    "        temp_city = response[\"main\"][\"temp\"]\n",
    "        temp.append(temp_city)\n",
    "        lng_city = response[\"coord\"][\"lon\"]\n",
    "        lng.append(lng_city)\n",
    "        maxtemp_city = response[\"main\"][\"temp_max\"]\n",
    "        max_temp.append(maxtemp_city)\n",
    "        hum_city = response[\"main\"][\"humidity\"]\n",
    "        humidity.append(hum_city)\n",
    "        cloud_city = response[\"clouds\"][\"all\"]\n",
    "        cloud.append(cloud_city)\n",
    "        wind_city = response[\"wind\"][\"speed\"]\n",
    "        wind.append(wind_city)\n",
    "        country_city = response[\"sys\"][\"country\"]\n",
    "        country.append(country_city)\n",
    "        date_city = response[\"dt\"]\n",
    "        date.append(date_city)\n",
    "        citylist.append(city)\n",
    "    #print(json.dumps(response, indent=4, sort_keys=True))\n",
    "            \n",
    "    except (KeyError, IndexError):\n",
    "        print(\"City not found... skipping.\")\n",
    "    \n",
    "    print(f\"Processing record {counter}: {city}\") \n",
    "    counter = counter + 1\n",
    "        "
   ]
  },
  {
   "cell_type": "markdown",
   "metadata": {},
   "source": [
    "### Convert Raw Data to DataFrame\n",
    "* Export the city data into a .csv.\n",
    "* Display the DataFrame"
   ]
  },
  {
   "cell_type": "code",
   "execution_count": 5,
   "metadata": {},
   "outputs": [
    {
     "data": {
      "text/plain": [
       "City          598\n",
       "Lat           598\n",
       "Lng           598\n",
       "Temp F        598\n",
       "Max Temp F    598\n",
       "Humidity      598\n",
       "Cloudiness    598\n",
       "Wind Speed    598\n",
       "Country       598\n",
       "Date          598\n",
       "dtype: int64"
      ]
     },
     "execution_count": 5,
     "metadata": {},
     "output_type": "execute_result"
    }
   ],
   "source": [
    "citydf = pd.DataFrame({\"City\":citylist,\n",
    "                       \"Lat\": lat,\n",
    "                       \"Lng\" : lng,\n",
    "                       \"Temp F\": temp,\n",
    "                       \"Max Temp F\" : max_temp,\n",
    "                       \"Humidity\":humidity,\n",
    "                       \"Cloudiness\":cloud,\n",
    "                       \"Wind Speed\":wind,\n",
    "                       \"Country\":country,\n",
    "                       \"Date\": date})\n",
    "citydf.count()"
   ]
  },
  {
   "cell_type": "code",
   "execution_count": 23,
   "metadata": {},
   "outputs": [],
   "source": [
    "#Export to.csv file\n",
    "citydf.to_csv(\"cities.csv\")"
   ]
  },
  {
   "cell_type": "markdown",
   "metadata": {},
   "source": [
    "## Inspect the data and remove the cities where the humidity > 100%.\n",
    "----\n",
    "Skip this step if there are no cities that have humidity > 100%. "
   ]
  },
  {
   "cell_type": "code",
   "execution_count": 9,
   "metadata": {},
   "outputs": [
    {
     "data": {
      "text/plain": [
       "100"
      ]
     },
     "execution_count": 9,
     "metadata": {},
     "output_type": "execute_result"
    }
   ],
   "source": [
    "citydf['Humidity'].max()"
   ]
  },
  {
   "cell_type": "code",
   "execution_count": 7,
   "metadata": {},
   "outputs": [
    {
     "data": {
      "text/plain": [
       "Int64Index([], dtype='int64')"
      ]
     },
     "execution_count": 7,
     "metadata": {},
     "output_type": "execute_result"
    }
   ],
   "source": [
    "#  Get the indices of cities that have humidity over 100%.\n"
   ]
  },
  {
   "cell_type": "code",
   "execution_count": 8,
   "metadata": {},
   "outputs": [
    {
     "data": {
      "text/html": [
       "<div>\n",
       "<style scoped>\n",
       "    .dataframe tbody tr th:only-of-type {\n",
       "        vertical-align: middle;\n",
       "    }\n",
       "\n",
       "    .dataframe tbody tr th {\n",
       "        vertical-align: top;\n",
       "    }\n",
       "\n",
       "    .dataframe thead th {\n",
       "        text-align: right;\n",
       "    }\n",
       "</style>\n",
       "<table border=\"1\" class=\"dataframe\">\n",
       "  <thead>\n",
       "    <tr style=\"text-align: right;\">\n",
       "      <th></th>\n",
       "      <th>City</th>\n",
       "      <th>Lat</th>\n",
       "      <th>Lng</th>\n",
       "      <th>Max Temp</th>\n",
       "      <th>Humidity</th>\n",
       "      <th>Cloudiness</th>\n",
       "      <th>Wind Speed</th>\n",
       "      <th>Country</th>\n",
       "      <th>Date</th>\n",
       "    </tr>\n",
       "  </thead>\n",
       "  <tbody>\n",
       "    <tr>\n",
       "      <th>0</th>\n",
       "      <td>pimentel</td>\n",
       "      <td>-6.84</td>\n",
       "      <td>-79.93</td>\n",
       "      <td>66.20</td>\n",
       "      <td>29</td>\n",
       "      <td>75</td>\n",
       "      <td>5.82</td>\n",
       "      <td>PE</td>\n",
       "      <td>1585764415</td>\n",
       "    </tr>\n",
       "    <tr>\n",
       "      <th>1</th>\n",
       "      <td>victoria</td>\n",
       "      <td>22.29</td>\n",
       "      <td>114.16</td>\n",
       "      <td>69.01</td>\n",
       "      <td>88</td>\n",
       "      <td>40</td>\n",
       "      <td>18.34</td>\n",
       "      <td>HK</td>\n",
       "      <td>1585764288</td>\n",
       "    </tr>\n",
       "    <tr>\n",
       "      <th>2</th>\n",
       "      <td>padang</td>\n",
       "      <td>-0.95</td>\n",
       "      <td>100.35</td>\n",
       "      <td>79.90</td>\n",
       "      <td>75</td>\n",
       "      <td>99</td>\n",
       "      <td>1.63</td>\n",
       "      <td>ID</td>\n",
       "      <td>1585764115</td>\n",
       "    </tr>\n",
       "    <tr>\n",
       "      <th>3</th>\n",
       "      <td>hasaki</td>\n",
       "      <td>35.73</td>\n",
       "      <td>140.83</td>\n",
       "      <td>55.00</td>\n",
       "      <td>100</td>\n",
       "      <td>75</td>\n",
       "      <td>4.70</td>\n",
       "      <td>JP</td>\n",
       "      <td>1585764415</td>\n",
       "    </tr>\n",
       "    <tr>\n",
       "      <th>4</th>\n",
       "      <td>kahului</td>\n",
       "      <td>20.89</td>\n",
       "      <td>-156.47</td>\n",
       "      <td>70.00</td>\n",
       "      <td>88</td>\n",
       "      <td>1</td>\n",
       "      <td>7.63</td>\n",
       "      <td>US</td>\n",
       "      <td>1585764415</td>\n",
       "    </tr>\n",
       "  </tbody>\n",
       "</table>\n",
       "</div>"
      ],
      "text/plain": [
       "       City    Lat     Lng  Max Temp  Humidity  Cloudiness  Wind Speed  \\\n",
       "0  pimentel  -6.84  -79.93     66.20        29          75        5.82   \n",
       "1  victoria  22.29  114.16     69.01        88          40       18.34   \n",
       "2    padang  -0.95  100.35     79.90        75          99        1.63   \n",
       "3    hasaki  35.73  140.83     55.00       100          75        4.70   \n",
       "4   kahului  20.89 -156.47     70.00        88           1        7.63   \n",
       "\n",
       "  Country        Date  \n",
       "0      PE  1585764415  \n",
       "1      HK  1585764288  \n",
       "2      ID  1585764115  \n",
       "3      JP  1585764415  \n",
       "4      US  1585764415  "
      ]
     },
     "execution_count": 8,
     "metadata": {},
     "output_type": "execute_result"
    }
   ],
   "source": [
    "# Make a new DataFrame equal to the city data to drop all humidity outliers by index.\n",
    "# Passing \"inplace=False\" will make a copy of the city_data DataFrame, which we call \"clean_city_data\".\n"
   ]
  },
  {
   "cell_type": "code",
   "execution_count": 9,
   "metadata": {},
   "outputs": [],
   "source": [
    "# Extract relevant fields from the data frame\n",
    "\n",
    "\n",
    "# Export the City_Data into a csv\n"
   ]
  },
  {
   "cell_type": "markdown",
   "metadata": {},
   "source": [
    "## Plotting the Data\n",
    "* Use proper labeling of the plots using plot titles (including date of analysis) and axes labels.\n",
    "* Save the plotted figures as .pngs."
   ]
  },
  {
   "cell_type": "markdown",
   "metadata": {},
   "source": [
    "## Latitude vs. Temperature Plot"
   ]
  },
  {
   "cell_type": "code",
   "execution_count": 15,
   "metadata": {
    "scrolled": true
   },
   "outputs": [
    {
     "data": {
      "text/plain": [
       "Text(0, 0.5, 'Max Temperature (F)')"
      ]
     },
     "execution_count": 15,
     "metadata": {},
     "output_type": "execute_result"
    },
    {
     "data": {
      "image/png": "[encoded data removed]",
      "text/plain": [
       "<Figure size 432x288 with 1 Axes>"
      ]
     },
     "metadata": {
      "needs_background": "light"
     },
     "output_type": "display_data"
    }
   ],
   "source": [
    "plt.figure()\n",
    "plt.scatter(citydf[\"Lat\"], citydf[\"Max Temp F\"], marker=\"+\", facecolors=\"red\", edgecolors=\"black\")\n",
    "plt.title(\"City Latitude vs. Max Temperature (26/07/2020)\")\n",
    "plt.xlabel(\"Latitude\")\n",
    "plt.ylabel(\"Max Temperature (F)\")"
   ]
  },
  {
   "cell_type": "markdown",
   "metadata": {},
   "source": [
    "## Latitude vs. Humidity Plot"
   ]
  },
  {
   "cell_type": "code",
   "execution_count": 14,
   "metadata": {},
   "outputs": [
    {
     "data": {
      "text/plain": [
       "Text(0, 0.5, 'Humidity (%)')"
      ]
     },
     "execution_count": 14,
     "metadata": {},
     "output_type": "execute_result"
    },
    {
     "data": {
      "image/png": "[encoded data removed]",
      "text/plain": [
       "<Figure size 432x288 with 1 Axes>"
      ]
     },
     "metadata": {
      "needs_background": "light"
     },
     "output_type": "display_data"
    }
   ],
   "source": [
    "plt.figure()\n",
    "plt.scatter(citydf[\"Lat\"], citydf[\"Humidity\"], marker=\"+\", facecolors=\"yellow\", edgecolors=\"black\")\n",
    "plt.title(\"City Latitude vs. Humidity (26/07/2020)\")\n",
    "plt.xlabel(\"Latitude\")\n",
    "plt.ylabel(\"Humidity (%)\")"
   ]
  },
  {
   "cell_type": "markdown",
   "metadata": {},
   "source": [
    "## Latitude vs. Cloudiness Plot"
   ]
  },
  {
   "cell_type": "code",
   "execution_count": 19,
   "metadata": {},
   "outputs": [
    {
     "data": {
      "text/plain": [
       "Text(0, 0.5, 'Cloudiness (%)')"
      ]
     },
     "execution_count": 19,
     "metadata": {},
     "output_type": "execute_result"
    },
    {
     "data": {
      "image/png": "[encoded data removed]",
      "text/plain": [
       "<Figure size 432x288 with 1 Axes>"
      ]
     },
     "metadata": {
      "needs_background": "light"
     },
     "output_type": "display_data"
    }
   ],
   "source": [
    "plt.figure()\n",
    "plt.scatter(citydf[\"Lat\"], citydf[\"Cloudiness\"], marker=\"+\", facecolors=\"magenta\", edgecolors=\"black\")\n",
    "plt.title(\"City Latitude vs. Cloudiness (26/07/2020)\")\n",
    "plt.xlabel(\"Latitude\")\n",
    "plt.ylabel(\"Cloudiness (%)\")"
   ]
  },
  {
   "cell_type": "markdown",
   "metadata": {},
   "source": [
    "## Latitude vs. Wind Speed Plot"
   ]
  },
  {
   "cell_type": "code",
   "execution_count": 21,
   "metadata": {},
   "outputs": [
    {
     "data": {
      "text/plain": [
       "Text(0, 0.5, 'Wind Speed (mph)')"
      ]
     },
     "execution_count": 21,
     "metadata": {},
     "output_type": "execute_result"
    },
    {
     "data": {
      "image/png": "[encoded data removed]",
      "text/plain": [
       "<Figure size 432x288 with 1 Axes>"
      ]
     },
     "metadata": {
      "needs_background": "light"
     },
     "output_type": "display_data"
    }
   ],
   "source": [
    "plt.figure()\n",
    "plt.scatter(citydf[\"Lat\"], citydf[\"Wind Speed\"], marker=\"+\", facecolors=\"red\", edgecolors=\"black\")\n",
    "plt.title(\"City Latitude vs. Wind Speed\")\n",
    "plt.xlabel(\"Latitude\")\n",
    "plt.ylabel(\"Wind Speed (mph)\")"
   ]
  },
  {
   "cell_type": "markdown",
   "metadata": {},
   "source": [
    "## Linear Regression"
   ]
  },
  {
   "cell_type": "code",
   "execution_count": 14,
   "metadata": {},
   "outputs": [],
   "source": [
    "# OPTIONAL: Create a function to create Linear Regression plots"
   ]
  },
  {
   "cell_type": "code",
   "execution_count": 15,
   "metadata": {},
   "outputs": [],
   "source": [
    "# Create Northern and Southern Hemisphere DataFrames"
   ]
  },
  {
   "cell_type": "markdown",
   "metadata": {},
   "source": [
    "####  Northern Hemisphere - Max Temp vs. Latitude Linear Regression"
   ]
  },
  {
   "cell_type": "code",
   "execution_count": 16,
   "metadata": {},
   "outputs": [
    {
     "name": "stdout",
     "output_type": "stream",
     "text": [
      "The r-squared is: 0.8271188905041935\n"
     ]
    },
    {
     "data": {
      "image/png": "[encoded data removed]",
      "text/plain": [
       "<Figure size 432x288 with 1 Axes>"
      ]
     },
     "metadata": {
      "needs_background": "light"
     },
     "output_type": "display_data"
    }
   ],
   "source": []
  },
  {
   "cell_type": "markdown",
   "metadata": {},
   "source": [
    "####  Southern Hemisphere - Max Temp vs. Latitude Linear Regression"
   ]
  },
  {
   "cell_type": "code",
   "execution_count": 17,
   "metadata": {},
   "outputs": [
    {
     "name": "stdout",
     "output_type": "stream",
     "text": [
      "The r-squared is: 0.39936284758885965\n"
     ]
    },
    {
     "data": {
      "image/png": "[encoded data removed]",
      "text/plain": [
       "<Figure size 432x288 with 1 Axes>"
      ]
     },
     "metadata": {
      "needs_background": "light"
     },
     "output_type": "display_data"
    }
   ],
   "source": []
  },
  {
   "cell_type": "markdown",
   "metadata": {},
   "source": [
    "####  Northern Hemisphere - Humidity (%) vs. Latitude Linear Regression"
   ]
  },
  {
   "cell_type": "code",
   "execution_count": 18,
   "metadata": {},
   "outputs": [
    {
     "name": "stdout",
     "output_type": "stream",
     "text": [
      "The r-squared is: 0.10829462153873139\n"
     ]
    },
    {
     "data": {
      "image/png": "[encoded data removed]",
      "text/plain": [
       "<Figure size 432x288 with 1 Axes>"
      ]
     },
     "metadata": {
      "needs_background": "light"
     },
     "output_type": "display_data"
    }
   ],
   "source": []
  },
  {
   "cell_type": "markdown",
   "metadata": {},
   "source": [
    "####  Southern Hemisphere - Humidity (%) vs. Latitude Linear Regression"
   ]
  },
  {
   "cell_type": "code",
   "execution_count": 19,
   "metadata": {},
   "outputs": [
    {
     "name": "stdout",
     "output_type": "stream",
     "text": [
      "The r-squared is: 0.0008996079328825663\n"
     ]
    },
    {
     "data": {
      "image/png": "[encoded data removed]",
      "text/plain": [
       "<Figure size 432x288 with 1 Axes>"
      ]
     },
     "metadata": {
      "needs_background": "light"
     },
     "output_type": "display_data"
    }
   ],
   "source": []
  },
  {
   "cell_type": "markdown",
   "metadata": {},
   "source": [
    "####  Northern Hemisphere - Cloudiness (%) vs. Latitude Linear Regression"
   ]
  },
  {
   "cell_type": "code",
   "execution_count": 20,
   "metadata": {},
   "outputs": [
    {
     "name": "stdout",
     "output_type": "stream",
     "text": [
      "The r-squared is: 0.05768812657005063\n"
     ]
    },
    {
     "data": {
      "image/png": "[encoded data removed]",
      "text/plain": [
       "<Figure size 432x288 with 1 Axes>"
      ]
     },
     "metadata": {
      "needs_background": "light"
     },
     "output_type": "display_data"
    }
   ],
   "source": []
  },
  {
   "cell_type": "markdown",
   "metadata": {},
   "source": [
    "####  Southern Hemisphere - Cloudiness (%) vs. Latitude Linear Regression"
   ]
  },
  {
   "cell_type": "code",
   "execution_count": 21,
   "metadata": {},
   "outputs": [
    {
     "name": "stdout",
     "output_type": "stream",
     "text": [
      "The r-squared is: 0.0684912094859049\n"
     ]
    },
    {
     "data": {
      "image/png": "[encoded data removed]",
      "text/plain": [
       "<Figure size 432x288 with 1 Axes>"
      ]
     },
     "metadata": {
      "needs_background": "light"
     },
     "output_type": "display_data"
    }
   ],
   "source": []
  },
  {
   "cell_type": "markdown",
   "metadata": {},
   "source": [
    "####  Northern Hemisphere - Wind Speed (mph) vs. Latitude Linear Regression"
   ]
  },
  {
   "cell_type": "code",
   "execution_count": 22,
   "metadata": {},
   "outputs": [
    {
     "name": "stdout",
     "output_type": "stream",
     "text": [
      "The r-squared is: 0.023371104533850804\n"
     ]
    },
    {
     "data": {
      "image/png": "[encoded data removed]",
      "text/plain": [
       "<Figure size 432x288 with 1 Axes>"
      ]
     },
     "metadata": {
      "needs_background": "light"
     },
     "output_type": "display_data"
    }
   ],
   "source": []
  },
  {
   "cell_type": "markdown",
   "metadata": {},
   "source": [
    "####  Southern Hemisphere - Wind Speed (mph) vs. Latitude Linear Regression"
   ]
  },
  {
   "cell_type": "code",
   "execution_count": 23,
   "metadata": {},
   "outputs": [
    {
     "name": "stdout",
     "output_type": "stream",
     "text": [
      "The r-squared is: 0.03381889207758188\n"
     ]
    },
    {
     "data": {
      "image/png": "[encoded data removed]",
      "text/plain": [
       "<Figure size 432x288 with 1 Axes>"
      ]
     },
     "metadata": {
      "needs_background": "light"
     },
     "output_type": "display_data"
    }
   ],
   "source": []
  },
  {
   "cell_type": "code",
   "execution_count": null,
   "metadata": {},
   "outputs": [],
   "source": []
  }
 ],
 "metadata": {
  "anaconda-cloud": {},
  "kernel_info": {
   "name": "python3"
  },
  "kernelspec": {
   "display_name": "Python 3",
   "language": "python",
   "name": "python3"
  },
  "language_info": {
   "codemirror_mode": {
    "name": "ipython",
    "version": 3
   },
   "file_extension": ".py",
   "mimetype": "text/x-python",
   "name": "python",
   "nbconvert_exporter": "python",
   "pygments_lexer": "ipython3",
   "version": "3.8.3"
  },
  "latex_envs": {
   "LaTeX_envs_menu_present": true,
   "autoclose": false,
   "autocomplete": true,
   "bibliofile": "biblio.bib",
   "cite_by": "apalike",
   "current_citInitial": 1,
   "eqLabelWithNumbers": true,
   "eqNumInitial": 1,
   "hotkeys": {
    "equation": "Ctrl-E",
    "itemize": "Ctrl-I"
   },
   "labels_anchors": false,
   "latex_user_defs": false,
   "report_style_numbering": false,
   "user_envs_cfg": false
  },
  "nteract": {
   "version": "0.12.3"
  }
 },
 "nbformat": 4,
 "nbformat_minor": 2
}
